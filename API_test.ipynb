{
 "cells": [
  {
   "cell_type": "code",
   "execution_count": null,
   "metadata": {
    "collapsed": false
   },
   "outputs": [],
   "source": [
    "%matplotlib inline\n",
    "import matplotlib.pyplot as plt\n",
    "import requests\n",
    "import pandas as pd\n",
    "import geopandas as gpd"
   ]
  },
  {
   "cell_type": "code",
   "execution_count": null,
   "metadata": {
    "collapsed": true
   },
   "outputs": [],
   "source": [
    "\"\"\"\n",
    "You need an authorization key, I got a trial one by mailing: DBOpenData@deutschebahn.com\n",
    "For real stuff I think you have to register: \n",
    "\n",
    "Für einen eigenen API-Key bitte im Developer-Portal registrieren: https://developer.deutschebahn.com/store/getting-started \n",
    "Und die Fahrplan-API abonnieren: https://developer.deutschebahn.com/store/apis/info?name=Fahrplan&version=v1&provider=DBOpenData\n",
    "\n",
    "\"\"\"\n",
    "\n",
    "#My local key:\n",
    "with open('DB_API_key.txt','r') as file:\n",
    "    API_Key =  file.readline()"
   ]
  },
  {
   "cell_type": "code",
   "execution_count": null,
   "metadata": {
    "collapsed": false
   },
   "outputs": [],
   "source": [
    "params = {}\n",
    "params['lang'] = 'en'\n",
    "params['authKey'] = API_Key\n",
    "params['input'] = 'Düsseldorf Hbf'\n",
    "params['format'] ='json'\n",
    "r = requests.get('https://open-api.bahn.de/bin/rest.exe/location.name',params = params)\n",
    "result = r.json()\n",
    "station = result['LocationList']['StopLocation'][0]\n",
    "station"
   ]
  },
  {
   "cell_type": "code",
   "execution_count": null,
   "metadata": {
    "collapsed": false
   },
   "outputs": [],
   "source": [
    "\n",
    "params = {}\n",
    "params['lang'] = 'en'\n",
    "params['authKey'] = 'DBhackFrankfurt0316'\n",
    "params['id'] = station['id']\n",
    "params['date'] = '2017-10-14'\n",
    "params['time'] = '20%0a30'\n",
    "params['format'] ='json'\n",
    "r = requests.get('https://open-api.bahn.de/bin/rest.exe/departureBoard',params = params)\n",
    "result = r.json()\n",
    "departure_board = result['DepartureBoard']['Departure']"
   ]
  },
  {
   "cell_type": "code",
   "execution_count": null,
   "metadata": {
    "collapsed": false
   },
   "outputs": [],
   "source": [
    "df_departure_board = pd.DataFrame(departure_board)\n",
    "df_departure_board.get_value(0,'JourneyDetailRef')"
   ]
  },
  {
   "cell_type": "code",
   "execution_count": null,
   "metadata": {
    "collapsed": false
   },
   "outputs": [],
   "source": [
    "df_departure_board = pd.DataFrame(departure_board)\n",
    "df_departure_board"
   ]
  },
  {
   "cell_type": "code",
   "execution_count": null,
   "metadata": {
    "collapsed": false
   },
   "outputs": [],
   "source": [
    "\"\"\"Correcting some errors in the API output\"\"\"\n",
    "def merge_cols(df,target_col,other_col):\n",
    "    if other_col in df:\n",
    "        df[target_col] = df[target_col].fillna(df[other_col])\n",
    "        df.drop(other_col,axis = 1,inplace = True)    \n",
    " \n",
    "merge_cols(df_departure_board,'type','tyte')\n",
    "merge_cols(df_departure_board,'type','tyoe')\n"
   ]
  },
  {
   "cell_type": "code",
   "execution_count": null,
   "metadata": {
    "collapsed": true
   },
   "outputs": [],
   "source": [
    "df_departure_board.to_csv('departure_board.csv',sep = ';')"
   ]
  },
  {
   "cell_type": "code",
   "execution_count": null,
   "metadata": {
    "collapsed": false
   },
   "outputs": [],
   "source": [
    "df_departure_board.ix[:,df_departure_board.columns != 'JourneyDetailRef']"
   ]
  },
  {
   "cell_type": "code",
   "execution_count": null,
   "metadata": {
    "collapsed": false
   },
   "outputs": [],
   "source": [
    "index = df_departure_board['name'] == 'ICE 26'\n",
    "line = df_departure_board.loc[index].iloc[0]\n",
    "\n",
    "\n",
    "#This is how you get data about a specific journey:\n",
    "r = requests.get(line['JourneyDetailRef']['ref'])\n",
    "journey = r.json()['JourneyDetail']\n",
    "df_journey = pd.DataFrame(journey['Stops']['Stop'])\n",
    "df_journey"
   ]
  },
  {
   "cell_type": "code",
   "execution_count": null,
   "metadata": {
    "collapsed": false
   },
   "outputs": [],
   "source": [
    "df_journey['lat'] = pd.to_numeric(df_journey['lat'])\n",
    "df_journey['lon'] = pd.to_numeric(df_journey['lon'])"
   ]
  },
  {
   "cell_type": "code",
   "execution_count": null,
   "metadata": {
    "collapsed": false
   },
   "outputs": [],
   "source": [
    "from shapely.geometry import Point\n",
    "\n",
    "geometry = [Point(xy) for xy in zip(df_journey.lon, df_journey.lat)]\n",
    "df = df_journey.drop(['lon', 'lat'], axis=1)\n",
    "crs = {'init': 'epsg:4326'}\n",
    "geo_df = gpd.GeoDataFrame(df, crs=crs, geometry=geometry)"
   ]
  },
  {
   "cell_type": "code",
   "execution_count": null,
   "metadata": {
    "collapsed": false
   },
   "outputs": [],
   "source": [
    "fig,ax = plt.subplots()\n",
    "geo_df.plot(ax = ax)"
   ]
  },
  {
   "cell_type": "code",
   "execution_count": null,
   "metadata": {
    "collapsed": false
   },
   "outputs": [],
   "source": [
    "df_world_map = gpd.read_file(filename = 'simplified-land-polygons-complete-3857/simplified_land_polygons.shp')"
   ]
  },
  {
   "cell_type": "code",
   "execution_count": null,
   "metadata": {
    "collapsed": false
   },
   "outputs": [],
   "source": [
    "help(df_world_map.query)"
   ]
  },
  {
   "cell_type": "code",
   "execution_count": null,
   "metadata": {
    "collapsed": true
   },
   "outputs": [],
   "source": []
  }
 ],
 "metadata": {
  "kernelspec": {
   "display_name": "Python 3",
   "language": "python",
   "name": "python3"
  },
  "language_info": {
   "codemirror_mode": {
    "name": "ipython",
    "version": 3
   },
   "file_extension": ".py",
   "mimetype": "text/x-python",
   "name": "python",
   "nbconvert_exporter": "python",
   "pygments_lexer": "ipython3",
   "version": "3.5.2"
  }
 },
 "nbformat": 4,
 "nbformat_minor": 0
}
